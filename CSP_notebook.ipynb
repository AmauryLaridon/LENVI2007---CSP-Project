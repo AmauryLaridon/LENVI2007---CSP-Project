{
 "cells": [
  {
   "cell_type": "markdown",
   "id": "dce80b13",
   "metadata": {},
   "source": [
    "# Renewable Energy Sources - APP CSP\n",
    "<i><u>Author</u> : Anthony CHUNG (25881800) - Louis GOUDERS </i>\n",
    "\n",
    "## Context \n",
    "An agro-food industry established in the South of Spain, near Granada, would like to produce its own energy, in order to meet both its electricity and heat needs.\n",
    "\n",
    "Hired as an energy efficiency engineer, we are asked to investigate the possibility of building a CSP plant, that should be designed to avoid injecting electricity on the grid to maximize the ROI. \n",
    "\n",
    "Additionally, we are also asked to think  about management of the production during the night so that the factory does not stop running, but still runs at a capacity factor of minimum 30% of the design baseload."
   ]
  },
  {
   "cell_type": "markdown",
   "id": "c0960120",
   "metadata": {},
   "source": [
    "## Data"
   ]
  },
  {
   "cell_type": "code",
   "execution_count": null,
   "id": "5a07391e",
   "metadata": {},
   "outputs": [],
   "source": []
  }
 ],
 "metadata": {
  "kernelspec": {
   "display_name": "Python 3 (ipykernel)",
   "language": "python",
   "name": "python3"
  },
  "language_info": {
   "codemirror_mode": {
    "name": "ipython",
    "version": 3
   },
   "file_extension": ".py",
   "mimetype": "text/x-python",
   "name": "python",
   "nbconvert_exporter": "python",
   "pygments_lexer": "ipython3",
   "version": "3.10.9"
  }
 },
 "nbformat": 4,
 "nbformat_minor": 5
}

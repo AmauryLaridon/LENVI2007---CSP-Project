{
 "cells": [
  {
   "cell_type": "markdown",
   "id": "dce80b13",
   "metadata": {},
   "source": [
    "# Renewable Energy Sources - APP CSP\n",
    "<i><u>Author</u> : Anthony CHUNG (25881800) - Louis GOUDERS </i>\n",
    "\n",
    "## Context \n",
    "An agro-food industry established in the South of Spain, near Granada, would like to produce its own energy, in order to meet both its electricity and heat needs.\n",
    "\n",
    "Hired as an energy efficiency engineer, we are asked to investigate the possibility of building a CSP plant, that should be designed to avoid injecting electricity on the grid to maximize the ROI. \n",
    "\n",
    "Additionally, we are also asked to think  about management of the production during the night so that the factory does not stop running, but still runs at a capacity factor of minimum 30% of the design baseload."
   ]
  },
  {
   "cell_type": "code",
   "execution_count": 1,
   "id": "e56a8376",
   "metadata": {},
   "outputs": [],
   "source": [
    "import pandas as pd\n",
    "import numpy as np\n",
    "import matplotlib.pyplot as plt"
   ]
  },
  {
   "cell_type": "markdown",
   "id": "c0960120",
   "metadata": {},
   "source": [
    "## Data"
   ]
  },
  {
   "cell_type": "markdown",
   "id": "0b1fab8f",
   "metadata": {},
   "source": [
    "The city of Granada is located in Spain with the latitude 37.17 and the longitude -3.58.  \n",
    "The data for the year 2019 is provided by the The National Solar Radiation Database (NSRDB). The granularity of the dataset is set to 30 minutes and here's below a list of the informations given : \n",
    "\n",
    "Meteorological data:\n",
    "- Half-hourly irradiance DHI [W/m2]\n",
    "- Half-hourly irradiance DNI [W/m2]\n",
    "- Half-hourly irradiance GHI [W/m2]\n",
    "- Drew point [°C]\n",
    "- Temperature (dry bulb) [Celsius]\n",
    "- Pressure [mbar]\n",
    "- Relative Humidity [%]\n",
    "- Wind direction [deg]\n",
    "- Wind speed [m/s]\n"
   ]
  },
  {
   "cell_type": "code",
   "execution_count": 2,
   "id": "5a07391e",
   "metadata": {},
   "outputs": [
    {
     "ename": "FileNotFoundError",
     "evalue": "[Errno 2] No such file or directory: 'Granada_msg-iodc_30_2019.csv'",
     "output_type": "error",
     "traceback": [
      "\u001b[1;31m---------------------------------------------------------------------------\u001b[0m",
      "\u001b[1;31mFileNotFoundError\u001b[0m                         Traceback (most recent call last)",
      "\u001b[1;32mC:\\Users\\LOUISG~1\\AppData\\Local\\Temp/ipykernel_8940/4197334922.py\u001b[0m in \u001b[0;36m<module>\u001b[1;34m\u001b[0m\n\u001b[0;32m      1\u001b[0m \u001b[1;31m#CSV files\u001b[0m\u001b[1;33m\u001b[0m\u001b[1;33m\u001b[0m\u001b[0m\n\u001b[1;32m----> 2\u001b[1;33m \u001b[0mdf_granada\u001b[0m \u001b[1;33m=\u001b[0m \u001b[0mpd\u001b[0m\u001b[1;33m.\u001b[0m\u001b[0mread_csv\u001b[0m\u001b[1;33m(\u001b[0m\u001b[1;34m'Granada_msg-iodc_30_2019.csv'\u001b[0m\u001b[1;33m,\u001b[0m\u001b[0mheader\u001b[0m \u001b[1;33m=\u001b[0m \u001b[1;36m2\u001b[0m\u001b[1;33m,\u001b[0m \u001b[0musecols\u001b[0m \u001b[1;33m=\u001b[0m  \u001b[1;33m[\u001b[0m\u001b[1;36m0\u001b[0m\u001b[1;33m,\u001b[0m\u001b[1;36m1\u001b[0m\u001b[1;33m,\u001b[0m\u001b[1;36m2\u001b[0m\u001b[1;33m,\u001b[0m\u001b[1;36m3\u001b[0m\u001b[1;33m,\u001b[0m\u001b[1;36m4\u001b[0m\u001b[1;33m,\u001b[0m\u001b[1;36m5\u001b[0m\u001b[1;33m,\u001b[0m\u001b[1;36m6\u001b[0m\u001b[1;33m,\u001b[0m\u001b[1;36m7\u001b[0m\u001b[1;33m,\u001b[0m\u001b[1;36m8\u001b[0m\u001b[1;33m,\u001b[0m\u001b[1;36m9\u001b[0m\u001b[1;33m,\u001b[0m\u001b[1;36m10\u001b[0m\u001b[1;33m,\u001b[0m\u001b[1;36m11\u001b[0m\u001b[1;33m,\u001b[0m\u001b[1;36m12\u001b[0m\u001b[1;33m,\u001b[0m\u001b[1;36m13\u001b[0m\u001b[1;33m,\u001b[0m\u001b[1;36m14\u001b[0m\u001b[1;33m,\u001b[0m\u001b[1;36m15\u001b[0m\u001b[1;33m,\u001b[0m\u001b[1;36m16\u001b[0m\u001b[1;33m,\u001b[0m\u001b[1;36m17\u001b[0m\u001b[1;33m]\u001b[0m\u001b[1;33m)\u001b[0m\u001b[1;33m\u001b[0m\u001b[1;33m\u001b[0m\u001b[0m\n\u001b[0m\u001b[0;32m      3\u001b[0m \u001b[0mdf_granada\u001b[0m\u001b[1;33m.\u001b[0m\u001b[0mhead\u001b[0m\u001b[1;33m(\u001b[0m\u001b[1;33m)\u001b[0m\u001b[1;33m\u001b[0m\u001b[1;33m\u001b[0m\u001b[0m\n\u001b[0;32m      4\u001b[0m \u001b[1;33m\u001b[0m\u001b[0m\n\u001b[0;32m      5\u001b[0m \u001b[1;31m#Extract the period of interest\u001b[0m\u001b[1;33m\u001b[0m\u001b[1;33m\u001b[0m\u001b[0m\n",
      "\u001b[1;32m~\\anaconda3\\lib\\site-packages\\pandas\\util\\_decorators.py\u001b[0m in \u001b[0;36mwrapper\u001b[1;34m(*args, **kwargs)\u001b[0m\n\u001b[0;32m    309\u001b[0m                     \u001b[0mstacklevel\u001b[0m\u001b[1;33m=\u001b[0m\u001b[0mstacklevel\u001b[0m\u001b[1;33m,\u001b[0m\u001b[1;33m\u001b[0m\u001b[1;33m\u001b[0m\u001b[0m\n\u001b[0;32m    310\u001b[0m                 )\n\u001b[1;32m--> 311\u001b[1;33m             \u001b[1;32mreturn\u001b[0m \u001b[0mfunc\u001b[0m\u001b[1;33m(\u001b[0m\u001b[1;33m*\u001b[0m\u001b[0margs\u001b[0m\u001b[1;33m,\u001b[0m \u001b[1;33m**\u001b[0m\u001b[0mkwargs\u001b[0m\u001b[1;33m)\u001b[0m\u001b[1;33m\u001b[0m\u001b[1;33m\u001b[0m\u001b[0m\n\u001b[0m\u001b[0;32m    312\u001b[0m \u001b[1;33m\u001b[0m\u001b[0m\n\u001b[0;32m    313\u001b[0m         \u001b[1;32mreturn\u001b[0m \u001b[0mwrapper\u001b[0m\u001b[1;33m\u001b[0m\u001b[1;33m\u001b[0m\u001b[0m\n",
      "\u001b[1;32m~\\anaconda3\\lib\\site-packages\\pandas\\io\\parsers\\readers.py\u001b[0m in \u001b[0;36mread_csv\u001b[1;34m(filepath_or_buffer, sep, delimiter, header, names, index_col, usecols, squeeze, prefix, mangle_dupe_cols, dtype, engine, converters, true_values, false_values, skipinitialspace, skiprows, skipfooter, nrows, na_values, keep_default_na, na_filter, verbose, skip_blank_lines, parse_dates, infer_datetime_format, keep_date_col, date_parser, dayfirst, cache_dates, iterator, chunksize, compression, thousands, decimal, lineterminator, quotechar, quoting, doublequote, escapechar, comment, encoding, encoding_errors, dialect, error_bad_lines, warn_bad_lines, on_bad_lines, delim_whitespace, low_memory, memory_map, float_precision, storage_options)\u001b[0m\n\u001b[0;32m    584\u001b[0m     \u001b[0mkwds\u001b[0m\u001b[1;33m.\u001b[0m\u001b[0mupdate\u001b[0m\u001b[1;33m(\u001b[0m\u001b[0mkwds_defaults\u001b[0m\u001b[1;33m)\u001b[0m\u001b[1;33m\u001b[0m\u001b[1;33m\u001b[0m\u001b[0m\n\u001b[0;32m    585\u001b[0m \u001b[1;33m\u001b[0m\u001b[0m\n\u001b[1;32m--> 586\u001b[1;33m     \u001b[1;32mreturn\u001b[0m \u001b[0m_read\u001b[0m\u001b[1;33m(\u001b[0m\u001b[0mfilepath_or_buffer\u001b[0m\u001b[1;33m,\u001b[0m \u001b[0mkwds\u001b[0m\u001b[1;33m)\u001b[0m\u001b[1;33m\u001b[0m\u001b[1;33m\u001b[0m\u001b[0m\n\u001b[0m\u001b[0;32m    587\u001b[0m \u001b[1;33m\u001b[0m\u001b[0m\n\u001b[0;32m    588\u001b[0m \u001b[1;33m\u001b[0m\u001b[0m\n",
      "\u001b[1;32m~\\anaconda3\\lib\\site-packages\\pandas\\io\\parsers\\readers.py\u001b[0m in \u001b[0;36m_read\u001b[1;34m(filepath_or_buffer, kwds)\u001b[0m\n\u001b[0;32m    480\u001b[0m \u001b[1;33m\u001b[0m\u001b[0m\n\u001b[0;32m    481\u001b[0m     \u001b[1;31m# Create the parser.\u001b[0m\u001b[1;33m\u001b[0m\u001b[1;33m\u001b[0m\u001b[0m\n\u001b[1;32m--> 482\u001b[1;33m     \u001b[0mparser\u001b[0m \u001b[1;33m=\u001b[0m \u001b[0mTextFileReader\u001b[0m\u001b[1;33m(\u001b[0m\u001b[0mfilepath_or_buffer\u001b[0m\u001b[1;33m,\u001b[0m \u001b[1;33m**\u001b[0m\u001b[0mkwds\u001b[0m\u001b[1;33m)\u001b[0m\u001b[1;33m\u001b[0m\u001b[1;33m\u001b[0m\u001b[0m\n\u001b[0m\u001b[0;32m    483\u001b[0m \u001b[1;33m\u001b[0m\u001b[0m\n\u001b[0;32m    484\u001b[0m     \u001b[1;32mif\u001b[0m \u001b[0mchunksize\u001b[0m \u001b[1;32mor\u001b[0m \u001b[0miterator\u001b[0m\u001b[1;33m:\u001b[0m\u001b[1;33m\u001b[0m\u001b[1;33m\u001b[0m\u001b[0m\n",
      "\u001b[1;32m~\\anaconda3\\lib\\site-packages\\pandas\\io\\parsers\\readers.py\u001b[0m in \u001b[0;36m__init__\u001b[1;34m(self, f, engine, **kwds)\u001b[0m\n\u001b[0;32m    809\u001b[0m             \u001b[0mself\u001b[0m\u001b[1;33m.\u001b[0m\u001b[0moptions\u001b[0m\u001b[1;33m[\u001b[0m\u001b[1;34m\"has_index_names\"\u001b[0m\u001b[1;33m]\u001b[0m \u001b[1;33m=\u001b[0m \u001b[0mkwds\u001b[0m\u001b[1;33m[\u001b[0m\u001b[1;34m\"has_index_names\"\u001b[0m\u001b[1;33m]\u001b[0m\u001b[1;33m\u001b[0m\u001b[1;33m\u001b[0m\u001b[0m\n\u001b[0;32m    810\u001b[0m \u001b[1;33m\u001b[0m\u001b[0m\n\u001b[1;32m--> 811\u001b[1;33m         \u001b[0mself\u001b[0m\u001b[1;33m.\u001b[0m\u001b[0m_engine\u001b[0m \u001b[1;33m=\u001b[0m \u001b[0mself\u001b[0m\u001b[1;33m.\u001b[0m\u001b[0m_make_engine\u001b[0m\u001b[1;33m(\u001b[0m\u001b[0mself\u001b[0m\u001b[1;33m.\u001b[0m\u001b[0mengine\u001b[0m\u001b[1;33m)\u001b[0m\u001b[1;33m\u001b[0m\u001b[1;33m\u001b[0m\u001b[0m\n\u001b[0m\u001b[0;32m    812\u001b[0m \u001b[1;33m\u001b[0m\u001b[0m\n\u001b[0;32m    813\u001b[0m     \u001b[1;32mdef\u001b[0m \u001b[0mclose\u001b[0m\u001b[1;33m(\u001b[0m\u001b[0mself\u001b[0m\u001b[1;33m)\u001b[0m\u001b[1;33m:\u001b[0m\u001b[1;33m\u001b[0m\u001b[1;33m\u001b[0m\u001b[0m\n",
      "\u001b[1;32m~\\anaconda3\\lib\\site-packages\\pandas\\io\\parsers\\readers.py\u001b[0m in \u001b[0;36m_make_engine\u001b[1;34m(self, engine)\u001b[0m\n\u001b[0;32m   1038\u001b[0m             )\n\u001b[0;32m   1039\u001b[0m         \u001b[1;31m# error: Too many arguments for \"ParserBase\"\u001b[0m\u001b[1;33m\u001b[0m\u001b[1;33m\u001b[0m\u001b[0m\n\u001b[1;32m-> 1040\u001b[1;33m         \u001b[1;32mreturn\u001b[0m \u001b[0mmapping\u001b[0m\u001b[1;33m[\u001b[0m\u001b[0mengine\u001b[0m\u001b[1;33m]\u001b[0m\u001b[1;33m(\u001b[0m\u001b[0mself\u001b[0m\u001b[1;33m.\u001b[0m\u001b[0mf\u001b[0m\u001b[1;33m,\u001b[0m \u001b[1;33m**\u001b[0m\u001b[0mself\u001b[0m\u001b[1;33m.\u001b[0m\u001b[0moptions\u001b[0m\u001b[1;33m)\u001b[0m  \u001b[1;31m# type: ignore[call-arg]\u001b[0m\u001b[1;33m\u001b[0m\u001b[1;33m\u001b[0m\u001b[0m\n\u001b[0m\u001b[0;32m   1041\u001b[0m \u001b[1;33m\u001b[0m\u001b[0m\n\u001b[0;32m   1042\u001b[0m     \u001b[1;32mdef\u001b[0m \u001b[0m_failover_to_python\u001b[0m\u001b[1;33m(\u001b[0m\u001b[0mself\u001b[0m\u001b[1;33m)\u001b[0m\u001b[1;33m:\u001b[0m\u001b[1;33m\u001b[0m\u001b[1;33m\u001b[0m\u001b[0m\n",
      "\u001b[1;32m~\\anaconda3\\lib\\site-packages\\pandas\\io\\parsers\\c_parser_wrapper.py\u001b[0m in \u001b[0;36m__init__\u001b[1;34m(self, src, **kwds)\u001b[0m\n\u001b[0;32m     49\u001b[0m \u001b[1;33m\u001b[0m\u001b[0m\n\u001b[0;32m     50\u001b[0m         \u001b[1;31m# open handles\u001b[0m\u001b[1;33m\u001b[0m\u001b[1;33m\u001b[0m\u001b[0m\n\u001b[1;32m---> 51\u001b[1;33m         \u001b[0mself\u001b[0m\u001b[1;33m.\u001b[0m\u001b[0m_open_handles\u001b[0m\u001b[1;33m(\u001b[0m\u001b[0msrc\u001b[0m\u001b[1;33m,\u001b[0m \u001b[0mkwds\u001b[0m\u001b[1;33m)\u001b[0m\u001b[1;33m\u001b[0m\u001b[1;33m\u001b[0m\u001b[0m\n\u001b[0m\u001b[0;32m     52\u001b[0m         \u001b[1;32massert\u001b[0m \u001b[0mself\u001b[0m\u001b[1;33m.\u001b[0m\u001b[0mhandles\u001b[0m \u001b[1;32mis\u001b[0m \u001b[1;32mnot\u001b[0m \u001b[1;32mNone\u001b[0m\u001b[1;33m\u001b[0m\u001b[1;33m\u001b[0m\u001b[0m\n\u001b[0;32m     53\u001b[0m \u001b[1;33m\u001b[0m\u001b[0m\n",
      "\u001b[1;32m~\\anaconda3\\lib\\site-packages\\pandas\\io\\parsers\\base_parser.py\u001b[0m in \u001b[0;36m_open_handles\u001b[1;34m(self, src, kwds)\u001b[0m\n\u001b[0;32m    220\u001b[0m         \u001b[0mLet\u001b[0m \u001b[0mthe\u001b[0m \u001b[0mreaders\u001b[0m \u001b[0mopen\u001b[0m \u001b[0mIOHandles\u001b[0m \u001b[0mafter\u001b[0m \u001b[0mthey\u001b[0m \u001b[0mare\u001b[0m \u001b[0mdone\u001b[0m \u001b[1;32mwith\u001b[0m \u001b[0mtheir\u001b[0m \u001b[0mpotential\u001b[0m \u001b[0mraises\u001b[0m\u001b[1;33m.\u001b[0m\u001b[1;33m\u001b[0m\u001b[1;33m\u001b[0m\u001b[0m\n\u001b[0;32m    221\u001b[0m         \"\"\"\n\u001b[1;32m--> 222\u001b[1;33m         self.handles = get_handle(\n\u001b[0m\u001b[0;32m    223\u001b[0m             \u001b[0msrc\u001b[0m\u001b[1;33m,\u001b[0m\u001b[1;33m\u001b[0m\u001b[1;33m\u001b[0m\u001b[0m\n\u001b[0;32m    224\u001b[0m             \u001b[1;34m\"r\"\u001b[0m\u001b[1;33m,\u001b[0m\u001b[1;33m\u001b[0m\u001b[1;33m\u001b[0m\u001b[0m\n",
      "\u001b[1;32m~\\anaconda3\\lib\\site-packages\\pandas\\io\\common.py\u001b[0m in \u001b[0;36mget_handle\u001b[1;34m(path_or_buf, mode, encoding, compression, memory_map, is_text, errors, storage_options)\u001b[0m\n\u001b[0;32m    700\u001b[0m         \u001b[1;32mif\u001b[0m \u001b[0mioargs\u001b[0m\u001b[1;33m.\u001b[0m\u001b[0mencoding\u001b[0m \u001b[1;32mand\u001b[0m \u001b[1;34m\"b\"\u001b[0m \u001b[1;32mnot\u001b[0m \u001b[1;32min\u001b[0m \u001b[0mioargs\u001b[0m\u001b[1;33m.\u001b[0m\u001b[0mmode\u001b[0m\u001b[1;33m:\u001b[0m\u001b[1;33m\u001b[0m\u001b[1;33m\u001b[0m\u001b[0m\n\u001b[0;32m    701\u001b[0m             \u001b[1;31m# Encoding\u001b[0m\u001b[1;33m\u001b[0m\u001b[1;33m\u001b[0m\u001b[0m\n\u001b[1;32m--> 702\u001b[1;33m             handle = open(\n\u001b[0m\u001b[0;32m    703\u001b[0m                 \u001b[0mhandle\u001b[0m\u001b[1;33m,\u001b[0m\u001b[1;33m\u001b[0m\u001b[1;33m\u001b[0m\u001b[0m\n\u001b[0;32m    704\u001b[0m                 \u001b[0mioargs\u001b[0m\u001b[1;33m.\u001b[0m\u001b[0mmode\u001b[0m\u001b[1;33m,\u001b[0m\u001b[1;33m\u001b[0m\u001b[1;33m\u001b[0m\u001b[0m\n",
      "\u001b[1;31mFileNotFoundError\u001b[0m: [Errno 2] No such file or directory: 'Granada_msg-iodc_30_2019.csv'"
     ]
    }
   ],
   "source": [
    "#CSV files\n",
    "df_granada = pd.read_csv('Granada_msg-iodc_30_2019.csv',header = 2, usecols =  [0,1,2,3,4,5,6,7,8,9,10,11,12,13,14,15,16,17])\n",
    "df_granada.head()\n",
    "\n",
    "#Extract the period of interest\n",
    "# Index of first day of August\n",
    "idx_start = df_granada.index[df_granada['Month'] == 8][0]\n",
    "# Index of first day of October\n",
    "idx_last = df_granada.index[df_granada['Month'] == 10][-1]\n",
    "df2_granada = df_granada[idx_start:idx_last+1]\n",
    "df2_granada.tail()"
   ]
  },
  {
   "cell_type": "code",
   "execution_count": null,
   "id": "596fbb2d",
   "metadata": {},
   "outputs": [],
   "source": [
    "time = np.arange(len(df2_granada))\n",
    "DNI = df2_granada['DNI']      \n",
    "# DHI = df2_granada['DHI']    \n",
    "# GHI = df2_granada['GHI']     \n",
    "\n",
    "\n",
    "plt.figure(figsize = (15,3))\n",
    "plt.plot(time, DNI,'-.')\n",
    "plt.ylabel('DNI [W/m^2]')\n",
    "plt.xlabel('time [half hours]')\n",
    "\n",
    "# plt.figure(figsize = (15,3))\n",
    "# plt.plot(time, DHI,'-.')\n",
    "# plt.ylabel('DHI [W/m^2]')\n",
    "# plt.xlabel('time [half hours]')\n",
    "\n",
    "# plt.figure(figsize = (15,3))\n",
    "# plt.plot(time, GHI,'-.')\n",
    "# plt.ylabel('GHI [W/m^2]')\n",
    "# plt.xlabel('time [half hours]')\n",
    "# plt.show()"
   ]
  },
  {
   "cell_type": "markdown",
   "id": "0dda8aa3",
   "metadata": {},
   "source": [
    "# First Cycle \n",
    "\n",
    "In order to find the size of the solar field and the storage facility, it is needed to compute the caracteristics of the thermo-cycle that produce electricity with the turbine.\n",
    "This cycle is composed by :\n",
    "- Pump with isothermal compression\n",
    "- 2 Heaters isobare\n",
    "- Turbine with isentropic relaxing\n",
    "- Condenser isobare\n",
    "\n",
    "We have thus 5 states and the giving variables :\n",
    "- The T2 temperature is set at $T_2 = 65\\space°C$\n",
    "- The intermediate temperature between the 2 heaters is $T_3 = 90\\space°C$\n",
    "- The steam temperature after the second heater is $T_4 = 133\\space°C$\n",
    "- The pressure during the heating process is set at $p_4 = 3\\space[bar]$\n",
    "- The heat exchange is $P_1 = 270$ and $P_2 = 220\\space[kWh_{th}/t_{sugar}]$\n",
    "- The electricity produce at the turbine is $P_3 = 90\\space[kWh_{e}/t_{sugar}]$\n",
    "- The facility process $14000 \\space [t]$ of beets during a day at nominal production\n",
    "- It is needed $6.5\\space[kg]$ of beets to produce $1\\space[kg]$ of sugar\n",
    "- The efficiency of the heater are $1 \\space [/]$\n",
    "- the efficiency of the Turbine is $0.98 \\space [/]$"
   ]
  },
  {
   "cell_type": "markdown",
   "id": "bb0c9a4f",
   "metadata": {},
   "source": [
    "## Water Flow rate\n",
    "\n",
    "To compute the water flow rate, we need to know the heat exchanged during day :"
   ]
  },
  {
   "cell_type": "code",
   "execution_count": 60,
   "id": "d9cc0609",
   "metadata": {},
   "outputs": [
    {
     "name": "stdout",
     "output_type": "stream",
     "text": [
      "Thermal power in the two heaters :\n",
      "          Evaporator = 24230.77 [kW]\n",
      "          Purificator = 19743.59 [kW] \n",
      "\n"
     ]
    }
   ],
   "source": [
    "y=12\n",
    "Qdotdot_1 = 270 #[kWh_th/t_s]\n",
    "Qdotdot_2 = 220 #[kWh_th/t_s]\n",
    "masse = 14*10**3/6.5 #[t_s/jour]\n",
    "masse_jour = masse/24  #[t_s/h]\n",
    "\n",
    "Qdot1_day = Qdotdot_1*masse_jour \n",
    "Qdot2_day = Qdotdot_2*masse_jour \n",
    "\n",
    "print(\"\"\"Thermal power in the two heaters :\n",
    "          Evaporator = {0:.2f} [kW]\n",
    "          Purificator = {1:.2f} [kW] \\n\"\"\".format(Qdot1_day, Qdot2_day))"
   ]
  },
  {
   "cell_type": "markdown",
   "id": "009a8841",
   "metadata": {},
   "source": [
    "With these values, we can compute the flow rate of the water in the two heaters :"
   ]
  },
  {
   "cell_type": "code",
   "execution_count": 59,
   "id": "d405f223",
   "metadata": {},
   "outputs": [
    {
     "name": "stdout",
     "output_type": "stream",
     "text": [
      "Flow rate of the water in the system :\n",
      "          Evaporator = 134.81 [kg/s]\n",
      "          Purificator = 188.93 [kg/s] \n",
      "\n"
     ]
    }
   ],
   "source": [
    "cp_eau = 4.180 #[kJ/(kg*K)]\n",
    "T4 = 133+273.15 #[K]\n",
    "T3 = 90+273.15  #[K]\n",
    "T2 = 65+273.15  #[K]\n",
    "mdot_eau_1_day = (Qdot1_day)/(cp_eau*(T4-T3))\n",
    "mdot_eau_2_day = (Qdot2_day)/(cp_eau*(T3-T2))\n",
    "print(\"\"\"Flow rate of the water in the system :\n",
    "          Evaporator = {0:.2f} [kg/s]\n",
    "          Purificator = {1:.2f} [kg/s] \\n\"\"\".format(mdot_eau_1_day, mdot_eau_2_day))"
   ]
  },
  {
   "cell_type": "markdown",
   "id": "401f4ffe",
   "metadata": {},
   "source": [
    "We observe that the flow rates are different for the two heaters. Since we cannot modify the heat and the temperatures of the water, we will introduce a floodgate between them."
   ]
  },
  {
   "cell_type": "markdown",
   "id": "a5708fb9",
   "metadata": {},
   "source": [
    "# Second cycle\n",
    "## Heat exchanger between the First and the second cycle\n",
    "For this part of the CSP, with all the data calculated in the previous section we can compute the flow rate of the Therminol VP1. For this, we need to impose some variables :\n",
    "- Hot temperature of therminol = 400 °C\n",
    "- Cold temperature of therminol close to 300 °C because the CSP is more efficient with a difference of temperature of $100\\space°C$\n",
    "- Type of fluid : Therminol VP1"
   ]
  },
  {
   "cell_type": "markdown",
   "id": "0512bc82",
   "metadata": {},
   "source": [
    "## Flow rate\n",
    "Knowing the heat released by the therminol, we can compute the flow rate in the first heat exchanger and then impose it in the second one and adapt the temperature. This will prevent us to set an floodgate between the two exchangers like for the first cycle."
   ]
  },
  {
   "cell_type": "code",
   "execution_count": 58,
   "id": "98430684",
   "metadata": {},
   "outputs": [
    {
     "name": "stdout",
     "output_type": "stream",
     "text": [
      "Flow rate of the Therminol VP1 = 167.18 [kg/s] \n",
      "Final temperature = 299.99 [°C]   \n",
      "\n"
     ]
    }
   ],
   "source": [
    "cp_t = 2.630 #[kJ/(kg*K)]\n",
    "Tx3 = 400 #[°C]\n",
    "def Flow_rate(Qdot1, Qdot2):\n",
    "    Tx1 = 349\n",
    "    Tx2 = 350\n",
    "    mdot_VP_1 = (Qdot1)/(cp_t*(Tx3-Tx2))\n",
    "    while Tx1 >= 300:\n",
    "        Tx2 -= 0.01\n",
    "        mdot_VP_1 = (Qdot1)/(cp_t*(Tx3-Tx2))\n",
    "        Tx1 = Tx2 - Qdot2/(cp_t*mdot_VP_1)\n",
    "    return (mdot_VP_1, Tx1)\n",
    "c,d = Flow_rate(Qdot1_day, Qdot2_day)\n",
    "a,b = Flow_rate(Qdot1_night, Qdot2_night)\n",
    "print(\"\"\"Flow rate of the Therminol VP1 = {0:.2f} [kg/s] \n",
    "Final temperature = {1:.2f} [°C]   \\n\"\"\".format(c,d))"
   ]
  },
  {
   "cell_type": "markdown",
   "id": "3869c1ae",
   "metadata": {},
   "source": [
    "The flow rate heated by the solar field is the sum of the flow rate in the heater between the two cycles and the heater between the second cycle and the storage system."
   ]
  },
  {
   "cell_type": "markdown",
   "id": "72ef09a5",
   "metadata": {},
   "source": [
    "## Storage facility capacity\n",
    "The storage facility need to provide the enough heat so the facility can still produce $90\\space[kWh_{e}/t_{sugar}]$ during the night when there is no sun to heat the Therminol VP1 with the solar field. Knowing that during night, the manufacture process $30\\%$ of the nominal quantity of beets.\n",
    "\n",
    "Since the quantity of sugar produce during night is not the same than during the day at nominal production. The heat needed to raise the water temperature change changing then all the other parameters."
   ]
  },
  {
   "cell_type": "code",
   "execution_count": 56,
   "id": "2f1565da",
   "metadata": {},
   "outputs": [
    {
     "name": "stdout",
     "output_type": "stream",
     "text": [
      "Thermic power at the exchanger :\n",
      "          Evaporator : 7269.23 [kW]\n",
      "          Purificator : 5923.08 [kW] \n",
      "\n",
      "Flow of water in the first cycle :\n",
      "          Evaporator : 40.44 [kg/s]\n",
      "          Purificator : 56.68 [kg/s] \n",
      "\n",
      "Flow of Therminol VP1 : 50.15 [kg/s] \n",
      "          Cold temperature : 299.99 [°C]   \n",
      "\n"
     ]
    }
   ],
   "source": [
    "masse_nuit = 30/100 * masse_jour #[t_s/h]\n",
    "Qdot1_night = Qdotdot_1*masse_nuit\n",
    "Qdot2_night = Qdotdot_2*masse_nuit\n",
    "mdot_eau_1_night = (Qdot1_night)/(cp_eau*(T4-T3))\n",
    "mdot_eau_2_night = (Qdot2_night)/(cp_eau*(T3-T2))\n",
    "a,b = Flow_rate(Qdot1_night, Qdot2_night)\n",
    "\n",
    "print(\"\"\"Thermic power at the exchanger :\n",
    "          Evaporator : {0:.2f} [kW]\n",
    "          Purificator : {1:.2f} [kW] \\n\n",
    "Flow of water in the first cycle :\n",
    "          Evaporator : {2:.2f} [kg/s]\n",
    "          Purificator : {3:.2f} [kg/s] \\n\n",
    "Flow of Therminol VP1 : {4:.2f} [kg/s] \n",
    "          Cold temperature : {5:.2f} [°C]   \\n\"\"\".format(Qdot1_night,Qdot2_night,mdot_eau_1_night,mdot_eau_2_night,a,b))"
   ]
  },
  {
   "cell_type": "markdown",
   "id": "2c942cd6",
   "metadata": {},
   "source": [
    "By knowing the flow and the temperature of the Therminol, we can dimension the liquid salt tank storage by using these data for the liquid salt :\n",
    "- $\\rho = 2519.16 [kg/m^{3}]$\n",
    "- $c_p = 1.53 \\space [kJ/(kg*K)]$\n",
    "- The upper limit for the salt temperature is $365 \\space °C$\n",
    "- The down limit of the temperature is $250 \\space °C$"
   ]
  },
  {
   "cell_type": "code",
   "execution_count": 57,
   "id": "01cc70d7",
   "metadata": {},
   "outputs": [
    {
     "name": "stdout",
     "output_type": "stream",
     "text": [
      "Liquid salt flow rate = 77.74 [kg/s]\n",
      "Volume du réservoir = 1333.19 [m^3]\n"
     ]
    }
   ],
   "source": [
    "density_salt = 2519.16 #[kg/m3]\n",
    "delta_T_salt = 365-250\n",
    "cp_salt = 1.53\n",
    "\n",
    "mdot_salt = cp_t*a*(Tx3-Tx1)/(0.98*cp_salt*delta_T_salt)\n",
    "\n",
    "V_tank = mdot_salt * (24-y) * 3600 / density_salt\n",
    "\n",
    "print(\"\"\"Liquid salt flow rate = {0:.2f} [kg/s]\n",
    "Volume du réservoir = {1:.2f} [m^3]\"\"\".format(mdot_salt,V_tank))"
   ]
  },
  {
   "cell_type": "markdown",
   "id": "2418f00f",
   "metadata": {},
   "source": [
    "We obtain a total volume for the tank of $1312 \\space [m^{3}]$ to ensure that the company can still run during night. "
   ]
  },
  {
   "cell_type": "markdown",
   "id": "98ee0662",
   "metadata": {},
   "source": [
    "## Storage Facility charging\n",
    "Now that we know the full size of the storage, we can determine the flow of the field HTF fluid in the storage heat exchanger cycle. "
   ]
  },
  {
   "cell_type": "code",
   "execution_count": 46,
   "id": "a217b6bc",
   "metadata": {},
   "outputs": [
    {
     "name": "stdout",
     "output_type": "stream",
     "text": [
      "Flow of Thermino VP1 in Storage heat exchanger during day = 50.36 [kg/s]\n"
     ]
    }
   ],
   "source": [
    "Flow_salt_day = V_tank * density_salt /(y*3600)\n",
    "Qdot_day_storage = Flow_salt_day * cp_salt * delta_T_salt\n",
    "flow_VP1 = Qdot_day_storage / (cp_t*(Tx3-Tx1))\n",
    "print(\"\"\"Flow rate of Therminol VP1 in Storage heat exchanger during day = {0:.2f} [kg/s]\"\"\".format(flow_VP1))"
   ]
  },
  {
   "cell_type": "markdown",
   "id": "f1742cdf",
   "metadata": {},
   "source": [
    "# Solar field \n",
    "\n",
    "In order to compute the size of the solar field, we will need to compute the aperture area as well as defining a distance between the collector rows.\n",
    "It has been showned that the formula for the rough approximation of the aperture area given below is a good representation of existang power plants.\n",
    "\n",
    "\\begin{aligned}\n",
    "    A_{ap} = \\frac{P_{el} \\cdot SM}{\\eta \\cdot G_{b,ap}}\n",
    "\\end{aligned}\n",
    "where \n",
    "- $P_{el}$ is the rated electric power \n",
    "- $SM$ is the solar multiple \n",
    "- $\\eta$ is the solar-to-electric efficiency\n",
    "- $G_{b,ap}$ is the solar-to-electric efficiency\n",
    "\n"
   ]
  },
  {
   "cell_type": "code",
   "execution_count": null,
   "id": "91a4df80",
   "metadata": {},
   "outputs": [],
   "source": [
    "def aperture_area(P_el,SM, eta, design_point):\n",
    "    A = P_el*10**6*SM/eta/design_point\n",
    "    return A"
   ]
  },
  {
   "cell_type": "markdown",
   "id": "50e06c80",
   "metadata": {},
   "source": [
    "**Aperture Area without storage**\n",
    "\n",
    "**Rated electric power**\n",
    "\n",
    "Givent that we processes $14 000$ tons of sugar-beets per day and 1 kg of sugar requires 6.5 kg of beets, our facility produces $2153.84$ tons of sugar.\n",
    "\n",
    "Since the installation needs $90\\ kWh_e/t_{sugar}$ in order to produce, we need a capacity of $\\frac{90 \\cdot 2153,84}{24} = 8.08\\ MW$. Thus, $P_{el} =  8.08\\ MW$\n",
    "\n",
    "<!-- This value falls between the usual range of capacity for CSP of $30$ to $80\\ MW$ -->"
   ]
  },
  {
   "cell_type": "code",
   "execution_count": null,
   "id": "8e51f4ae",
   "metadata": {},
   "outputs": [],
   "source": [
    "prod = 14000/6.5\n",
    "P_el_1 = 90 * prod/24/1000"
   ]
  },
  {
   "cell_type": "markdown",
   "id": "46ecf4c7",
   "metadata": {},
   "source": [
    "**Solar Multiple**\n",
    "\n",
    "The solar multiple being the ratio of the thermal power of the solar field at design point to the required thermal power for the full-load operated power block. Let's first consider the solar field without storage, thus $SM=1$"
   ]
  },
  {
   "cell_type": "code",
   "execution_count": null,
   "id": "83628a12",
   "metadata": {},
   "outputs": [],
   "source": [
    "SM_1 = 1"
   ]
  },
  {
   "cell_type": "markdown",
   "id": "3e4fa088",
   "metadata": {},
   "source": [
    "\n",
    "**Solar-to-electric efficiency**"
   ]
  },
  {
   "cell_type": "code",
   "execution_count": null,
   "id": "fb2265d6",
   "metadata": {},
   "outputs": [],
   "source": [
    "eta_1 = 0.14"
   ]
  },
  {
   "cell_type": "markdown",
   "id": "b8d85f90",
   "metadata": {},
   "source": [
    "\n",
    "\n",
    "*Optical losses*\n",
    "\n",
    "#TODO\n",
    "\n",
    "*Thermal losses*\n",
    "\n",
    "#TODO\n",
    "\n",
    "**Direct irradiance**\n",
    "\n",
    "In order to dimension the aperture area, we need to define a rederence irradiance value to be a design point. Several choices can be considered such as the peak irradiance or a weak irradiance, but both choices have their pros and cons\n",
    "- If we choose a high direct irradiance, then the power block is nearly always operated under part-load conditions, which reduces the power block efficiency\n",
    "- If we choose a low direct irradiance, then the solar field gets very large, which raises the investment costs and it will happen more frequently that thermal energy from the solar field cannot be used in the power block and has to be dumped\n",
    "\n",
    "According to the textbook : *\"Simulations concerning a specific 50MW plant in southern Spain rendered the result that the optimal design direct collector irradiance corresponds to the value that has a frequency distribution of 55-60%, which for the considered location was at 650-700W/m². The frequency distribution means that at 55-60% of the periods, when direct radiation is available, the direct radiation on the collector aperture reaches this value or is higher.\"*\n",
    "\n",
    "Since our installation will also be located in the South of Spain and the we have a quite similar capacity, we will compute the direct irradiance that has a frequency distribution of 55-60% for our database.\n"
   ]
  },
  {
   "cell_type": "code",
   "execution_count": null,
   "id": "05189590",
   "metadata": {},
   "outputs": [],
   "source": [
    "DNI_range = np.arange(50, 1050, 50)\n",
    "DNI_lenna = np.count_nonzero(DNI)\n",
    "lb_DNI = 0\n",
    "UB_DNI = 0\n",
    "DNI_count = dict.fromkeys(DNI_range, 0)\n",
    "for i in DNI : \n",
    "    for j in DNI_range :\n",
    "        if i>= j:\n",
    "            DNI_count[j] += 1\n",
    "        \n",
    "for (i,j) in DNI_count.items():\n",
    "    DNI_count[i] = j/DNI_lenna*100\n",
    "    if DNI_count[i] > 54.5 and DNI_count[i] < 55.5:\n",
    "        ub_DNI = i\n",
    "    if DNI_count[i] < 61.5 and DNI_count[i] > 59.5:\n",
    "        lb_DNI = i\n",
    "\n",
    "print(\"Frequency distribution of direct irradiance : \")\n",
    "for (i,j) in DNI_count.items():\n",
    "    print(\"    \",i, \"W/m² :\", round(j,1) ,\"%\")\n",
    "\n",
    "print(\"Optimal direct irradiance for design point : [\", lb_DNI,\",\", ub_DNI,\"]\" , \"W/m²\")\n",
    "\n",
    "DNI_design_1 = (ub_DNI + lb_DNI)/2 "
   ]
  },
  {
   "cell_type": "markdown",
   "id": "b518b362",
   "metadata": {},
   "source": [
    "From the calculation, we observe that the optimal direct irradiance falling the in frequency distribution of 55-60% is around $[450,550]\\ W/m²$, which is again close the the texbook simulations. \n",
    "We decide to choose the average value as design point.\n",
    "\n",
    "Thus, we can compute the approximation of the aperture area with the values: "
   ]
  },
  {
   "cell_type": "markdown",
   "id": "663e630c",
   "metadata": {},
   "source": [
    "- $P_{el} = 8.08\\ MW$\n",
    "- $SM = 1$ \n",
    "- $\\eta = 0.14$ \n",
    "- $G_{b,ap} = 500\\ W/m²$"
   ]
  },
  {
   "cell_type": "code",
   "execution_count": null,
   "id": "8ecb7a6e",
   "metadata": {},
   "outputs": [],
   "source": [
    "A_without_storage = aperture_area(P_el_1, SM_1, eta_1, DNI_design_1)\n",
    "\n",
    "print(\"Aperture Area :\",round(A_without_storage,2),\"m² =\",A_without_storage/(10**6),\"km²\")"
   ]
  },
  {
   "cell_type": "markdown",
   "id": "4e215930",
   "metadata": {},
   "source": [
    "From here, we can make some assumptions based on the textbook to estimate the size of the ground area. Indeed, since the solar fied is composed of rows of collectors loops with a certain arrangment the factory, we need to take into account the distance between the collector loops as well as the size of the collector itself.\n",
    "\n",
    "Suppose that : \n",
    "- a collector has an aperture width and module length of 6m and 12m respectively\n",
    "- a collector loop is composed of two rows of 6 collectors each\n",
    "- a row of collector loops is composed of 30 loops."
   ]
  },
  {
   "cell_type": "code",
   "execution_count": null,
   "id": "e200fd02",
   "metadata": {},
   "outputs": [],
   "source": [
    "def ground_area(aperture_area):\n",
    "    nb_collectors = aperture_area/6/12\n",
    "    nb_collectors_loop = nb_collectors/12\n",
    "    ground_area = aperture_area + (nb_collectors_loop*2*12*12)\n",
    "    return ground_area,nb_collectors,nb_collectors_loop"
   ]
  },
  {
   "cell_type": "code",
   "execution_count": null,
   "id": "3af6bd4a",
   "metadata": {},
   "outputs": [],
   "source": [
    "ground_area_1,nb_collectors_1,nb_collectors_loop_1 = ground_area(A_without_storage)\n",
    "print(\"Ground area :\",round(ground_area_1,2),\"m² =\",round(ground_area_1/(10**6),2),\"km²\")\n",
    "print(\"number of collectors :\", round(nb_collectors_1))\n",
    "print(\"number of collectors per loop :\", round(nb_collectors_loop_1))"
   ]
  },
  {
   "cell_type": "markdown",
   "id": "534dd7b1",
   "metadata": {},
   "source": []
  }
 ],
 "metadata": {
  "kernelspec": {
   "display_name": "Python 3 (ipykernel)",
   "language": "python",
   "name": "python3"
  },
  "language_info": {
   "codemirror_mode": {
    "name": "ipython",
    "version": 3
   },
   "file_extension": ".py",
   "mimetype": "text/x-python",
   "name": "python",
   "nbconvert_exporter": "python",
   "pygments_lexer": "ipython3",
   "version": "3.9.7"
  }
 },
 "nbformat": 4,
 "nbformat_minor": 5
}
